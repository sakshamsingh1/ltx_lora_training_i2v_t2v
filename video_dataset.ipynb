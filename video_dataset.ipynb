{
 "cells": [
  {
   "cell_type": "code",
   "execution_count": 4,
   "id": "dd73942e-39a6-4051-b5fc-139aacf62ed5",
   "metadata": {},
   "outputs": [],
   "source": []
  },
  {
   "cell_type": "code",
   "execution_count": 1,
   "id": "8a87bdf6-53c3-4fdf-a976-5a695c8863f7",
   "metadata": {},
   "outputs": [],
   "source": [
    "import os, random, math\n",
    "import subprocess\n",
    "import numpy as np\n",
    "from tqdm import tqdm\n",
    "from pathlib import Path\n",
    "import cv2\n",
    "import torch\n",
    "from torchvision import transforms\n",
    "from PIL import Image\n",
    "\n",
    "os.environ['all_proxy']=''\n",
    "os.environ['all_proxy']=''"
   ]
  },
  {
   "cell_type": "code",
   "execution_count": 2,
   "id": "b66135b7-477c-477e-8ef2-d10614ad969d",
   "metadata": {},
   "outputs": [],
   "source": [
    "import ollama\n",
    "import base64\n",
    "# import decord\n",
    "import io\n",
    "from icecream import ic\n"
   ]
  },
  {
   "cell_type": "code",
   "execution_count": 3,
   "id": "75dd923f-a856-463a-9d69-10a8dcf892f2",
   "metadata": {},
   "outputs": [],
   "source": [
    "from constants import DEFAULT_HEIGHT_BUCKETS, DEFAULT_WIDTH_BUCKETS, DEFAULT_FRAME_BUCKETS\n",
    "\n",
    "def get_frames(inp: str, w: int, h: int, start_sec: float = 0, duration: float = None, f: int = None, fps = None) -> np.ndarray:\n",
    "    args = []\n",
    "    if duration is not None:\n",
    "        args += [\"-t\", f\"{duration:.2f}\"]\n",
    "    elif f is not None:\n",
    "        args += [\"-frames:v\", str(f)]\n",
    "    if fps is not None:\n",
    "        args += [\"-r\", str(fps)]\n",
    "    \n",
    "    args = [\"ffmpeg\", \"-nostdin\", \"-ss\", f\"{start_sec:.2f}\", \"-i\", inp, *args, \n",
    "        \"-f\", \"rawvideo\", \"-pix_fmt\", \"rgb24\", \"-s\", f\"{w}x{h}\", \"pipe:\"]\n",
    "    \n",
    "    process = subprocess.Popen(args, stderr=-1, stdout=-1)\n",
    "    out, err = process.communicate()\n",
    "    retcode = process.poll()\n",
    "    if retcode:\n",
    "        raise Exception(f\"{inp}: ffmpeg error: {err.decode('utf-8')}\")\n",
    "\n",
    "    process.terminate()\n",
    "    return np.frombuffer(out, np.uint8).reshape(-1, h, w, 3) # b, h, w, c\n",
    "    "
   ]
  },
  {
   "cell_type": "code",
   "execution_count": 4,
   "id": "82500a72-30b6-40b4-9c67-6e0a79940d07",
   "metadata": {},
   "outputs": [],
   "source": [
    "class Captioner():\n",
    "    def __init__(self, model=\"minicpm-v:8b-2.6-q5_0\", prompt=None):\n",
    "        self.client = ollama.Client()\n",
    "        self.model = model\n",
    "        # default_prompt = \"\"\"describe this video in this order: camera angle, main subject, make the description short\"\"\"\n",
    "        default_prompt = \"describe this video in short\"\n",
    "        self.prompt = prompt or default_prompt\n",
    "        \n",
    "        start = [\"The\", \"This\"]\n",
    "        kind = [\"video\", \"image\", \"scene\", \"animated sequence\"]\n",
    "        act = [\"displays\", \"shows\", \"features\", \"is\", \"depicts\", \"presents\", \"showcases\", \"captures\" ]\n",
    "        \n",
    "        bad_phrese = []\n",
    "        for ss in start:\n",
    "            for kk in kind:\n",
    "                for aa in act:\n",
    "                    bad_phrese.append(f\"{ss} {kk} {aa}\")\n",
    "                    \n",
    "        self.should_remove_phrese=[\n",
    "            \"In the video\",\n",
    "        ] + bad_phrese\n",
    "        \n",
    "    @staticmethod\n",
    "    def pil_to_base64(image):\n",
    "      byte_stream = io.BytesIO()\n",
    "      image.save(byte_stream, format='JPEG')\n",
    "      byte_stream.seek(0)\n",
    "      return base64.b64encode(byte_stream.read()).decode('utf-8')\n",
    "    \n",
    "    def remove_phrese(self, cap):\n",
    "        # only keep the primary part of the caption\n",
    "        if \"\\n\\n\" in cap:\n",
    "            cap = cap.split(\"\\n\\n\")[0]\n",
    "        \n",
    "        for ii in self.should_remove_phrese:\n",
    "            cap = cap.replace(ii, \"\")\n",
    "            \n",
    "        return cap\n",
    "        \n",
    "    def get_caption(self, frames, size=(640, 320), frame_skip=4):\n",
    "        # 24fps to 8fps\n",
    "        frames = frames[::frame_skip]\n",
    "        if isinstance(frames, np.ndarray):\n",
    "            frames = [Image.fromarray(image).convert(\"RGB\").resize(size) for image in frames]\n",
    "        else:\n",
    "            frames = [transforms.ToPILImage()(image.permute(2, 0, 1)).convert(\"RGB\").resize(size) for image in frames]\n",
    "        images = [ self.pil_to_base64(image) for image in frames]\n",
    "        \n",
    "        response = self.client.chat(\n",
    "            model=self.model,\n",
    "            messages=[{\n",
    "              \"role\":\"user\",\n",
    "              \"content\": self.prompt, # \"describe this video in short\",\n",
    "              \"images\": images }\n",
    "            ]\n",
    "        )\n",
    "        cap = response[\"message\"][\"content\"]\n",
    "        return self.remove_phrese(cap)\n",
    "        "
   ]
  },
  {
   "cell_type": "code",
   "execution_count": 20,
   "id": "0980da87-1366-4737-a748-c5f05c655ef8",
   "metadata": {},
   "outputs": [],
   "source": [
    "class VideoFramesDataset(torch.utils.data.Dataset):\n",
    "    def __init__(\n",
    "        self, \n",
    "        video_dir: str,\n",
    "        cach_dir: str,\n",
    "        width: int = 1024,\n",
    "        height: int = 576,\n",
    "        num_frames: int = 49, \n",
    "        fps: int = 24,\n",
    "        # to filter out short clips\n",
    "        get_frames_max: int = 30 * 24, # prevent super long videos\n",
    "        # cach_frames_min: int = 9,\n",
    "        prompt_prefix = \"freeze time, camera orbit left,\",\n",
    "    ):\n",
    "        super().__init__()\n",
    "        assert width in DEFAULT_WIDTH_BUCKETS, f\"width only supported in: {DEFAULT_WIDTH_BUCKETS}\"\n",
    "        assert height in DEFAULT_HEIGHT_BUCKETS, f\"height only supported in: {DEFAULT_HEIGHT_BUCKETS}\"\n",
    "        assert num_frames in DEFAULT_FRAME_BUCKETS, f\"frames should in: {DEFAULT_FRAME_BUCKETS}\"\n",
    "        \n",
    "        self.width = width\n",
    "        self.height = height\n",
    "        self.num_frames = num_frames\n",
    "        self.fps = fps\n",
    "        self.video_dir = video_dir\n",
    "        \n",
    "        self.cach_dir = Path(f\"{cach_dir}_{num_frames}x{width}x{height}\")\n",
    "        self.cach_dir.mkdir(parents=True, exist_ok=True)\n",
    "        \n",
    "        self.get_frames_max = get_frames_max\n",
    "        self.prompt_prefix = prompt_prefix\n",
    "        \n",
    "        # self.cach_frames_min = cach_frames_min\n",
    "        self.videos = []\n",
    "        \n",
    "        self.data = []\n",
    "        # load from cache\n",
    "        # for root, dirs, files in os.walk(self.cach_dir):\n",
    "        #     for file in files:\n",
    "        #         if file.endswith('.pt') and file[0] != \".\":\n",
    "        #             self.data.append(os.path.join(root, file))\n",
    "        # print(f\"load cached videos: {len(self.data)}\")\n",
    "        \n",
    "        if video_dir is not None:\n",
    "            self.load_videos()\n",
    "        \n",
    "    def load_videos(self):\n",
    "        videos = []\n",
    "        for root, dirs, files in os.walk(self.video_dir):\n",
    "            for file in files:\n",
    "                if (file.endswith('.mp4') or file.endswith('.mov')) and file[0] != \".\":\n",
    "                    videos.append(os.path.join(root, file))\n",
    "        assert len(videos) > 0, \"目标文件夹内没有视频文件\"\n",
    "        \n",
    "        self.videos = videos\n",
    "        print(f\"{type(self).__name__} found {len(self.videos)} videos \")\n",
    "        return videos\n",
    "    \n",
    "    def to_tensor(self, data, device=\"cuda\", dtype=torch.bfloat16):\n",
    "        input = (data / 255) * 2.0 - 1.0\n",
    "        # from (t, h, w, c) to b (t  c, h, w)\n",
    "        return torch.from_numpy(input).permute(0, 3, 1, 2).unsqueeze(0).to(device, dtype=dtype)\n",
    "\n",
    "    def cache_frames(self, to_latent, to_caption, to_embedding, device=\"cuda\"):\n",
    "        print(f\"building caches, video count: {len(self.videos)}\")\n",
    "\n",
    "        for vid in tqdm(self.videos):\n",
    "            dest = os.path.join(self.cach_dir, os.path.basename(vid).rsplit(\".\", 1)[0] + \".pt\")\n",
    "            ic(dest)\n",
    "            if os.path.exists(dest):\n",
    "                continue\n",
    "            try:\n",
    "                video_frames = get_frames(vid, self.width, self.height, 0,  f=self.get_frames_max, fps=self.fps)\n",
    "            except:\n",
    "                print(\"error file:\", vid)\n",
    "                continue\n",
    "            if len(video_frames) < self.num_frames:\n",
    "                continue\n",
    "            # divid into parts\n",
    "            iters = len(video_frames) // self.num_frames\n",
    "            latents = []\n",
    "            embedds = []\n",
    "            masks = []\n",
    "            captions = []\n",
    "            for idx in range(iters):\n",
    "                frames = video_frames[ idx*self.num_frames : (idx + 1) * self.num_frames ]\n",
    "                ic(frames.shape) \n",
    "                caption = self.prompt_prefix + \" \" + to_caption(frames)\n",
    "                ic(caption)\n",
    "                emebedding, mask = to_embedding(caption.replace(\"  \", \" \"))\n",
    "                ic(emebedding.shape, mask.shape)\n",
    "                # should be 1, 49, 3, 512, 768 (b, f, c, h, w)\n",
    "                latent = to_latent(self.to_tensor(frames, device=device))\n",
    "                assert latent.ndim == 3, \"patched latent should have 3 dims\"\n",
    "                ic(latent.shape)\n",
    "                \n",
    "                captions.append(caption)\n",
    "                embedds.append(emebedding)\n",
    "                masks.append(mask)\n",
    "                latents.append(latent)\n",
    "\n",
    "            latents = torch.cat(latents, dim=0)\n",
    "            embedds = torch.cat(embedds, dim=0)\n",
    "            masks = torch.cat(masks, dim=0)\n",
    "            \n",
    "            # print(latent.shape, latent_lr.shape)\n",
    "            # np.savez(dest, hr=latent, lr=latent_lr)\n",
    "            torch.save(dict(latents=latents, embedds=embedds, masks=masks, captions=captions), dest)\n",
    "            self.data.append(dest)\n",
    "            \n",
    "        print(f\">> cached {len(self.data)} videos\")\n",
    "    \n",
    "    def __len__(self):\n",
    "        return len(self.data)\n",
    "    \n",
    "    def __getitem__(self, idx):\n",
    "        return self.videos[idx]\n",
    "        \n"
   ]
  },
  {
   "cell_type": "code",
   "execution_count": null,
   "id": "18089c26-1e1e-4ca5-8f3a-676ff942d1da",
   "metadata": {},
   "outputs": [],
   "source": []
  },
  {
   "cell_type": "code",
   "execution_count": 21,
   "id": "a3ccb3ac-586d-4abe-a708-bc9195e31e86",
   "metadata": {},
   "outputs": [
    {
     "name": "stdout",
     "output_type": "stream",
     "text": [
      "VideoFramesDataset found 24 videos \n"
     ]
    }
   ],
   "source": [
    "import argparse\n",
    "from yaml import load, dump, Loader, Dumper\n",
    "from tqdm import tqdm\n",
    "\n",
    "from ltx_video_lora import *\n",
    "\n",
    "# ------------------- \n",
    "config_file = \"./configs/ltx.yaml\"\n",
    "device = \"cuda\"\n",
    "dtype = torch.bfloat16\n",
    "# ------------------- \n",
    "\n",
    "config_dict = load(open(config_file, \"r\"), Loader=Loader)\n",
    "args = argparse.Namespace(**config_dict)\n",
    "\n",
    "\n",
    "# ----------- prepare models -------------\n",
    "dataset = VideoFramesDataset(\n",
    "    video_dir=\"/home/eisneim/Videos\",\n",
    "    cach_dir=\"/home/eisneim/www/ml/video_gen/ltx_training/data/ltxv_disney\",\n",
    "    width=768,\n",
    "    height=512,\n",
    "    num_frames= 49,\n",
    "    prompt_prefix=args.id_token,\n",
    ")\n",
    "\n",
    "captioner = Captioner()\n",
    "\n"
   ]
  },
  {
   "cell_type": "code",
   "execution_count": 17,
   "id": "7c5dd1b8-1050-4c37-aa03-15b48f42458d",
   "metadata": {},
   "outputs": [
    {
     "data": {
      "application/vnd.jupyter.widget-view+json": {
       "model_id": "18d69a7b118c4b678ac2a8e458617987",
       "version_major": 2,
       "version_minor": 0
      },
      "text/plain": [
       "Downloading shards:   0%|          | 0/4 [00:00<?, ?it/s]"
      ]
     },
     "metadata": {},
     "output_type": "display_data"
    },
    {
     "data": {
      "application/vnd.jupyter.widget-view+json": {
       "model_id": "2477e9177cff47109210d036527c9fa5",
       "version_major": 2,
       "version_minor": 0
      },
      "text/plain": [
       "Loading checkpoint shards:   0%|          | 0/4 [00:00<?, ?it/s]"
      ]
     },
     "metadata": {},
     "output_type": "display_data"
    }
   ],
   "source": [
    "cond_models = load_condition_models()\n",
    "tokenizer, text_encoder = cond_models[\"tokenizer\"], cond_models[\"text_encoder\"]\n",
    "text_encoder = text_encoder.to(device, dtype=dtype)\n",
    "vae = load_latent_models()[\"vae\"].to(device, dtype=dtype)\n",
    "# vae.enable_tiling()\n",
    "# vae.enable_slicing()"
   ]
  },
  {
   "cell_type": "code",
   "execution_count": 18,
   "id": "65e37447-39b3-42a2-90ab-1efbcd907776",
   "metadata": {},
   "outputs": [],
   "source": [
    "def to_latent(frames_tensor):\n",
    "    ic(frames_tensor.shape)\n",
    "    assert frames_tensor.size(2) == 3, f\"frames should be in shape: (b, f, c, h, w) provided: {frames_tensor.shape}\"\n",
    "    with torch.no_grad():\n",
    "        return prepare_latents(\n",
    "                vae=vae,\n",
    "                image_or_video=frames_tensor,\n",
    "                device=device,\n",
    "                dtype=dtype,\n",
    "            )[\"latents\"].cpu()\n",
    "        \n",
    "def to_embedding(caption):\n",
    "    with torch.no_grad():\n",
    "        text_conditions = prepare_conditions(\n",
    "            tokenizer=tokenizer,\n",
    "            text_encoder=text_encoder,\n",
    "            prompt=caption,\n",
    "        )\n",
    "        prompt_embeds = text_conditions[\"prompt_embeds\"].to(\"cpu\", dtype=torch.bfloat16)\n",
    "        prompt_attention_mask = text_conditions[\"prompt_attention_mask\"].to(\"cpu\", dtype=torch.bfloat16)\n",
    "    return prompt_embeds, prompt_attention_mask\n",
    "\n"
   ]
  },
  {
   "cell_type": "code",
   "execution_count": null,
   "id": "7501f6af-e81e-4270-9901-7891ee33abb4",
   "metadata": {},
   "outputs": [],
   "source": [
    "dataset.cache_frames(to_latent, captioner.get_caption, to_embedding)"
   ]
  },
  {
   "cell_type": "code",
   "execution_count": 23,
   "id": "c137309f-1ec3-45d5-b36a-b7b0d49269a1",
   "metadata": {},
   "outputs": [
    {
     "name": "stderr",
     "output_type": "stream",
     "text": [
      "/tmp/ipykernel_154811/2276535393.py:2: FutureWarning: You are using `torch.load` with `weights_only=False` (the current default value), which uses the default pickle module implicitly. It is possible to construct malicious pickle data which will execute arbitrary code during unpickling (See https://github.com/pytorch/pytorch/blob/main/SECURITY.md#untrusted-models for more details). In a future release, the default value for `weights_only` will be flipped to `True`. This limits the functions that could be executed during unpickling. Arbitrary objects will no longer be allowed to be loaded via this mode unless they are explicitly allowlisted by the user via `torch.serialization.add_safe_globals`. We recommend you start setting `weights_only=True` for any use case where you don't have full control of the loaded file. Please open an issue on GitHub for any issues related to this experimental feature.\n",
      "  data = torch.load(file)\n"
     ]
    },
    {
     "data": {
      "text/plain": [
       "torch.Size([2688, 128])"
      ]
     },
     "execution_count": 23,
     "metadata": {},
     "output_type": "execute_result"
    }
   ],
   "source": [
    "def _unpack_latents(\n",
    "        latents: torch.Tensor, num_frames: int, height: int, width: int, patch_size: int = 1, patch_size_t: int = 1\n",
    "    ) -> torch.Tensor:\n",
    "    # Packed latents of shape [B, S, D] (S is the effective video sequence length, D is the effective feature dimensions)\n",
    "    # are unpacked and reshaped into a video tensor of shape [B, C, F, H, W]. This is the inverse operation of\n",
    "    # what happens in the `_pack_latents` method.\n",
    "    batch_size = latents.size(0)\n",
    "    latents = latents.reshape(batch_size, num_frames, height, width, -1, patch_size_t, patch_size, patch_size)\n",
    "    latents = latents.permute(0, 4, 1, 5, 2, 6, 3, 7).flatten(6, 7).flatten(4, 5).flatten(2, 3)\n",
    "    return latents"
   ]
  },
  {
   "cell_type": "code",
   "execution_count": 32,
   "id": "c6009e87-611e-4c5f-9e04-44748a966c14",
   "metadata": {},
   "outputs": [
    {
     "name": "stdout",
     "output_type": "stream",
     "text": [
      "torch.Size([2688, 128])\n"
     ]
    },
    {
     "name": "stderr",
     "output_type": "stream",
     "text": [
      "/tmp/ipykernel_154811/3519275392.py:2: FutureWarning: You are using `torch.load` with `weights_only=False` (the current default value), which uses the default pickle module implicitly. It is possible to construct malicious pickle data which will execute arbitrary code during unpickling (See https://github.com/pytorch/pytorch/blob/main/SECURITY.md#untrusted-models for more details). In a future release, the default value for `weights_only` will be flipped to `True`. This limits the functions that could be executed during unpickling. Arbitrary objects will no longer be allowed to be loaded via this mode unless they are explicitly allowlisted by the user via `torch.serialization.add_safe_globals`. We recommend you start setting `weights_only=True` for any use case where you don't have full control of the loaded file. Please open an issue on GitHub for any issues related to this experimental feature.\n",
      "  data = torch.load(file)\n"
     ]
    },
    {
     "data": {
      "text/plain": [
       "torch.Size([1, 128, 7, 16, 24])"
      ]
     },
     "execution_count": 32,
     "metadata": {},
     "output_type": "execute_result"
    }
   ],
   "source": [
    "\n",
    "file = \"/home/eisneim/www/ml/video_gen/ltx_training/data/ltxv_disney_49x768x512/v0200fg10000c2hqshct1rmi4vupplog.pt\"\n",
    "data = torch.load(file)\n",
    "ll = data[\"latents\"][0]\n",
    "ll.shape\n",
    "\n",
    "lt = _unpack_latents(ll.unsqueeze(dim=0).to(device, dtype=dtype), 7, 512//32,  768//32)\n",
    "# lt = _unpack_latents(ll.unsqueeze(dim=0).to(device, dtype=dtype), 7, 768//32, 512//32)\n",
    "print(ll.shape)\n",
    "lt.shape"
   ]
  },
  {
   "cell_type": "code",
   "execution_count": 8,
   "id": "19c5bf83-e135-4f28-a2eb-9eb98d2a509a",
   "metadata": {},
   "outputs": [],
   "source": [
    "vae = load_latent_models()[\"vae\"].to(device, dtype=dtype)"
   ]
  },
  {
   "cell_type": "code",
   "execution_count": 43,
   "id": "9aa3c3c8-1a74-4274-af53-df04735f0c31",
   "metadata": {},
   "outputs": [
    {
     "data": {
      "text/plain": [
       "'data/test_rec3.mp4'"
      ]
     },
     "execution_count": 43,
     "metadata": {},
     "output_type": "execute_result"
    }
   ],
   "source": [
    "from diffusers.utils import export_to_video\n",
    "from diffusers.video_processor import VideoProcessor\n",
    "with torch.no_grad():\n",
    "    video =  vae.decode(lt, return_dict=False)[0]\n",
    "pcc = VideoProcessor(vae_scale_factor=32)\n",
    "vv = pcc.postprocess_video(video)[0]\n",
    "export_to_video(vv, \"data/test_rec3.mp4\")"
   ]
  },
  {
   "cell_type": "code",
   "execution_count": 42,
   "id": "9ba0a221-6883-421d-978c-32e889bb9276",
   "metadata": {},
   "outputs": [
    {
     "data": {
      "text/plain": [
       "torch.Size([1, 128, 7, 16, 24])"
      ]
     },
     "execution_count": 42,
     "metadata": {},
     "output_type": "execute_result"
    }
   ],
   "source": [
    "lt = _unpack_latents(ll.unsqueeze(dim=0).to(device, dtype=dtype), 7, 512//32,  768//32)\n",
    "# lt = lt.permute(0, 2, 1, 3, 4)\n",
    "lt.shape"
   ]
  },
  {
   "cell_type": "code",
   "execution_count": 24,
   "id": "76283fe6-d52a-4e18-8066-01961351fd4b",
   "metadata": {},
   "outputs": [
    {
     "data": {
      "text/plain": [
       "'test.mp4'"
      ]
     },
     "execution_count": 24,
     "metadata": {},
     "output_type": "execute_result"
    }
   ],
   "source": [
    "\n"
   ]
  },
  {
   "cell_type": "code",
   "execution_count": 13,
   "id": "415621e7-26f6-48c8-bbb6-dc72b07832fc",
   "metadata": {},
   "outputs": [
    {
     "name": "stderr",
     "output_type": "stream",
     "text": [
      "ic| frames_tensor.shape: torch.Size([1, 49, 3, 512, 768])\n"
     ]
    },
    {
     "data": {
      "text/plain": [
       "torch.Size([1, 256, 7, 16, 24])"
      ]
     },
     "execution_count": 13,
     "metadata": {},
     "output_type": "execute_result"
    }
   ],
   "source": [
    "tt = torch.randn(1, 49, 3, 512, 768)\n",
    "out = to_latent(tt)\n",
    "out.shape"
   ]
  },
  {
   "cell_type": "code",
   "execution_count": 12,
   "id": "c51e1bb0-3f72-4c00-a3c3-b4f56a18b3a3",
   "metadata": {},
   "outputs": [
    {
     "data": {
      "text/plain": [
       "torch.Size([1, 2688, 128])"
      ]
     },
     "execution_count": 12,
     "metadata": {},
     "output_type": "execute_result"
    }
   ],
   "source": []
  },
  {
   "cell_type": "code",
   "execution_count": null,
   "id": "69d0ef40-7501-4a97-869a-624933a6bf50",
   "metadata": {},
   "outputs": [],
   "source": []
  }
 ],
 "metadata": {
  "kernelspec": {
   "display_name": "_learn",
   "language": "python",
   "name": "_learn"
  },
  "language_info": {
   "codemirror_mode": {
    "name": "ipython",
    "version": 3
   },
   "file_extension": ".py",
   "mimetype": "text/x-python",
   "name": "python",
   "nbconvert_exporter": "python",
   "pygments_lexer": "ipython3",
   "version": "3.10.14"
  }
 },
 "nbformat": 4,
 "nbformat_minor": 5
}
