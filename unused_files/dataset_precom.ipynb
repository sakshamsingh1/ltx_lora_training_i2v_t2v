{
 "cells": [
  {
   "cell_type": "code",
   "execution_count": 2,
   "id": "60561ad9-e78d-4eeb-811b-2b8774cd0b79",
   "metadata": {},
   "outputs": [],
   "source": [
    "import os, random, math\n",
    "import numpy as np\n",
    "from tqdm import tqdm\n",
    "from pathlib import Path\n",
    "import torch\n",
    "from torchvision import transforms\n",
    "from PIL import Image\n"
   ]
  },
  {
   "cell_type": "code",
   "execution_count": 3,
   "id": "5ef6003f-543a-4923-bf09-a90d4534511a",
   "metadata": {},
   "outputs": [
    {
     "name": "stdout",
     "output_type": "stream",
     "text": [
      "load cached videos: 11\n"
     ]
    }
   ],
   "source": [
    "class PrecomputedDataset(torch.utils.data.Dataset):\n",
    "    def __init__(\n",
    "        self, \n",
    "        data_dir: str,\n",
    "        width: int = 1024,\n",
    "        height: int = 576,\n",
    "        num_frames: int = 49, \n",
    "    ):\n",
    "        super().__init__()        \n",
    "        self.width = width\n",
    "        self.height = height\n",
    "        self.num_frames = num_frames\n",
    "        \n",
    "        self.data_dir = data_dir\n",
    "\n",
    "        self.data = []\n",
    "        # load from cache\n",
    "        for root, dirs, files in os.walk(self.data_dir):\n",
    "            for file in files:\n",
    "                if file.endswith('.pt') and file[0] != \".\":\n",
    "                    self.data.append(os.path.join(root, file))\n",
    "        print(f\"load cached videos: {len(self.data)}\")\n",
    "    \n",
    "    def __len__(self):\n",
    "        return len(self.data)\n",
    "    \n",
    "    def __getitem__(self, idx):\n",
    "        data = torch.load(self.data[idx])\n",
    "        index = idx = random.randint(0, len(data[\"captions\"]) - 1)\n",
    "        \n",
    "        return data[\"latents\"][index], data[\"embedds\"][index], data[\"masks\"][index], data[\"captions\"][index]\n",
    "\n",
    "dd = PrecomputedDataset(\"/home/eisneim/www/ml/video_gen/ltx_training/data/ltxv_disney_49x768x512\", width=768, height=512, num_frames=49)\n"
   ]
  },
  {
   "cell_type": "code",
   "execution_count": 4,
   "id": "adedc41e-2521-46b6-98e3-644913f35f06",
   "metadata": {},
   "outputs": [
    {
     "name": "stderr",
     "output_type": "stream",
     "text": [
      "/tmp/ipykernel_161324/4034372591.py:28: FutureWarning: You are using `torch.load` with `weights_only=False` (the current default value), which uses the default pickle module implicitly. It is possible to construct malicious pickle data which will execute arbitrary code during unpickling (See https://github.com/pytorch/pytorch/blob/main/SECURITY.md#untrusted-models for more details). In a future release, the default value for `weights_only` will be flipped to `True`. This limits the functions that could be executed during unpickling. Arbitrary objects will no longer be allowed to be loaded via this mode unless they are explicitly allowlisted by the user via `torch.serialization.add_safe_globals`. We recommend you start setting `weights_only=True` for any use case where you don't have full control of the loaded file. Please open an issue on GitHub for any issues related to this experimental feature.\n",
      "  data = torch.load(self.data[idx])\n"
     ]
    }
   ],
   "source": [
    "latent, emb, mask, cap = dd[1]"
   ]
  },
  {
   "cell_type": "code",
   "execution_count": 9,
   "id": "3bf0943b-2148-47cd-b657-20d1d38dc80a",
   "metadata": {},
   "outputs": [
    {
     "data": {
      "text/plain": [
       "\"freeze time, camera orbit left,  a serene journey along an elevated road, lined with sturdy metal guardrails. The lush greenery of the hills and trees flanks both sides of the path as it winds through rolling terrain under a vast expanse of blue sky dotted with scattered white clouds. In the distance, a large body of water is visible, reflecting the light in a way that enhances its tranquility. Throughout this picturesque setting, there are no signs of human activity or wildlife present; the scene remains undisturbed and peaceful. The video offers an uninterrupted view as it progresses seamlessly from one frame to another, maintaining consistent lighting conditions and preserving the tranquil essence of nature along the journey's route.\""
      ]
     },
     "execution_count": 9,
     "metadata": {},
     "output_type": "execute_result"
    }
   ],
   "source": [
    "cap"
   ]
  },
  {
   "cell_type": "code",
   "execution_count": null,
   "id": "ee68eb1b-059b-4e28-81d6-3f568df72f1d",
   "metadata": {},
   "outputs": [],
   "source": [
    "class BucketSampler(torch.utils.data.Sampler):\n",
    "    def __init__(self):\n",
    "        pass"
   ]
  }
 ],
 "metadata": {
  "kernelspec": {
   "display_name": "_learn",
   "language": "python",
   "name": "_learn"
  },
  "language_info": {
   "codemirror_mode": {
    "name": "ipython",
    "version": 3
   },
   "file_extension": ".py",
   "mimetype": "text/x-python",
   "name": "python",
   "nbconvert_exporter": "python",
   "pygments_lexer": "ipython3",
   "version": "3.10.14"
  }
 },
 "nbformat": 4,
 "nbformat_minor": 5
}
