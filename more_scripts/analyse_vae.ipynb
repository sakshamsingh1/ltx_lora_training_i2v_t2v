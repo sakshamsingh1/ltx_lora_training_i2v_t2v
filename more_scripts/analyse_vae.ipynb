{
 "cells": [
  {
   "cell_type": "code",
   "execution_count": 1,
   "metadata": {},
   "outputs": [
    {
     "name": "stderr",
     "output_type": "stream",
     "text": [
      "/tmp/ipykernel_522475/3609704475.py:2: DeprecationWarning: Importing display from IPython.core.display is deprecated since IPython 7.14, please import from IPython.display\n",
      "  from IPython.core.display import display, HTML\n"
     ]
    }
   ],
   "source": [
    "import sys\n",
    "from IPython.core.display import display, HTML"
   ]
  },
  {
   "cell_type": "code",
   "execution_count": 2,
   "metadata": {},
   "outputs": [
    {
     "name": "stderr",
     "output_type": "stream",
     "text": [
      "/home/sxk230060/miniconda3/envs/ltx/lib/python3.10/site-packages/tqdm/auto.py:21: TqdmWarning: IProgress not found. Please update jupyter and ipywidgets. See https://ipywidgets.readthedocs.io/en/stable/user_install.html\n",
      "  from .autonotebook import tqdm as notebook_tqdm\n"
     ]
    }
   ],
   "source": [
    "path='/home/sxk230060/TI2AV/misc/ltx_lora_training_i2v_t2v/more_scripts/'\n",
    "sys.path.append(path)\n",
    "from analyse_vae import VAE_analyse"
   ]
  },
  {
   "cell_type": "code",
   "execution_count": 8,
   "metadata": {},
   "outputs": [],
   "source": [
    "vae_obj = VAE_analyse()\n",
    "path = '/home/sxk230060/TI2AV/misc/ltx_lora_training_i2v_t2v/outputs/temp/image2.jpg'\n",
    "latent = vae_obj.img_to_latent(path)\n",
    "save_path = '/home/sxk230060/TI2AV/misc/ltx_lora_training_i2v_t2v/outputs/temp/image2_reconstructed.jpg'\n",
    "vae_obj.latent_to_img(latent, save_path)"
   ]
  },
  {
   "cell_type": "code",
   "execution_count": 9,
   "metadata": {},
   "outputs": [
    {
     "data": {
      "text/html": [
       "\n",
       "<div style=\"display: flex; justify-content: center; gap: 20px;\">\n",
       "    <img src=\"/home/sxk230060/TI2AV/misc/ltx_lora_training_i2v_t2v/outputs/temp/image2.jpg\" style=\"width: 45%; height: auto;\">\n",
       "    <img src=\"/home/sxk230060/TI2AV/misc/ltx_lora_training_i2v_t2v/outputs/temp/image2_reconstructed.jpg\" style=\"width: 45%; height: auto;\">\n",
       "</div>\n"
      ],
      "text/plain": [
       "<IPython.core.display.HTML object>"
      ]
     },
     "metadata": {},
     "output_type": "display_data"
    }
   ],
   "source": [
    "# Create HTML to display images side by side\n",
    "html_code = f\"\"\"\n",
    "<div style=\"display: flex; justify-content: center; gap: 20px;\">\n",
    "    <img src=\"{path}\" style=\"width: 45%; height: auto;\">\n",
    "    <img src=\"{save_path}\" style=\"width: 45%; height: auto;\">\n",
    "</div>\n",
    "\"\"\"\n",
    "\n",
    "display(HTML(html_code))"
   ]
  },
  {
   "cell_type": "code",
   "execution_count": null,
   "metadata": {},
   "outputs": [],
   "source": []
  }
 ],
 "metadata": {
  "kernelspec": {
   "display_name": "ltx",
   "language": "python",
   "name": "python3"
  },
  "language_info": {
   "codemirror_mode": {
    "name": "ipython",
    "version": 3
   },
   "file_extension": ".py",
   "mimetype": "text/x-python",
   "name": "python",
   "nbconvert_exporter": "python",
   "pygments_lexer": "ipython3",
   "version": "3.10.16"
  }
 },
 "nbformat": 4,
 "nbformat_minor": 2
}
